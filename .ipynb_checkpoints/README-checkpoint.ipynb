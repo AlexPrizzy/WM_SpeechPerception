{
 "cells": [
  {
   "cell_type": "markdown",
   "id": "357aeac0",
   "metadata": {},
   "source": [
    "## Initial Findings"
   ]
  },
  {
   "cell_type": "markdown",
   "id": "0c9f64bf",
   "metadata": {},
   "source": [
    "[![DOI](https://zenodo.org/badge/482913163.svg)](https://zenodo.org/badge/latestdoi/482913163)"
   ]
  },
  {
   "cell_type": "markdown",
   "id": "8ce9df58",
   "metadata": {},
   "source": [
    "This repository contains the data and code for a study on auditory working memory training and synthetic speech learning for MACS 30200 \"Perspectives on Computational Research\" at the University of Chicago."
   ]
  },
  {
   "cell_type": "markdown",
   "id": "b829bb4b",
   "metadata": {},
   "source": [
    "Data was collected in the Attention, Perception, EXperience (APEX) Lab in the department of Psychology at the University of Chicago. \n",
    "\n",
    "Participants were randomly assigned to two conditions of an auditory N-back task. Training group received an adaptive version of the N-back to train working memory. Control group received a non-adaptive 1-back task to account for confounding effects by length of exposure to computerized tasks. \n",
    "\n",
    "Participants also completed a synthetic speech learning task to measure effects of working memory task on learning. "
   ]
  },
  {
   "cell_type": "markdown",
   "id": "9d54920a",
   "metadata": {},
   "source": [
    "Hypothesis: Participants who complete the adaptive N-back task will have greater synthetic speech learning outcomes than participants who complete a non-adaptive N-back task. "
   ]
  },
  {
   "cell_type": "markdown",
   "id": "56e4a286",
   "metadata": {},
   "source": [
    "### Data Processing"
   ]
  },
  {
   "cell_type": "code",
   "execution_count": 16,
   "id": "af515d03",
   "metadata": {},
   "outputs": [],
   "source": [
    "import pandas as pd"
   ]
  },
  {
   "cell_type": "markdown",
   "id": "e981b901",
   "metadata": {},
   "source": [
    "#### Read the \"participant_data.csv\" file which contains:\n",
    "    condition: Adaptive (Training) or Non-Adaptive(Control) N-back\n",
    "    Pre-/Post-Test: Score from Synthetic Speech Learning task\n",
    "    Learning Rate: Pretest - Posttest\n",
    " "
   ]
  },
  {
   "cell_type": "code",
   "execution_count": 20,
   "id": "f1a37990",
   "metadata": {},
   "outputs": [],
   "source": [
    "data = \"Data/participant_data.csv\""
   ]
  },
  {
   "cell_type": "markdown",
   "id": "b9484094",
   "metadata": {},
   "source": [
    "Here we have preliminary data for four participants:\n",
    "    2 Training, 2 Control"
   ]
  },
  {
   "cell_type": "code",
   "execution_count": 27,
   "id": "9a09c1f8",
   "metadata": {},
   "outputs": [
    {
     "data": {
      "text/html": [
       "<div>\n",
       "<style scoped>\n",
       "    .dataframe tbody tr th:only-of-type {\n",
       "        vertical-align: middle;\n",
       "    }\n",
       "\n",
       "    .dataframe tbody tr th {\n",
       "        vertical-align: top;\n",
       "    }\n",
       "\n",
       "    .dataframe thead th {\n",
       "        text-align: right;\n",
       "    }\n",
       "</style>\n",
       "<table border=\"1\" class=\"dataframe\">\n",
       "  <thead>\n",
       "    <tr style=\"text-align: right;\">\n",
       "      <th></th>\n",
       "      <th>condition</th>\n",
       "      <th>pre-test</th>\n",
       "      <th>post-test</th>\n",
       "      <th>learning rate</th>\n",
       "    </tr>\n",
       "  </thead>\n",
       "  <tbody>\n",
       "    <tr>\n",
       "      <th>0</th>\n",
       "      <td>adaptive</td>\n",
       "      <td>0.29</td>\n",
       "      <td>0.41</td>\n",
       "      <td>0.12</td>\n",
       "    </tr>\n",
       "    <tr>\n",
       "      <th>1</th>\n",
       "      <td>non-adaptive</td>\n",
       "      <td>0.17</td>\n",
       "      <td>0.27</td>\n",
       "      <td>0.10</td>\n",
       "    </tr>\n",
       "    <tr>\n",
       "      <th>2</th>\n",
       "      <td>adaptive</td>\n",
       "      <td>0.13</td>\n",
       "      <td>0.20</td>\n",
       "      <td>0.07</td>\n",
       "    </tr>\n",
       "    <tr>\n",
       "      <th>3</th>\n",
       "      <td>non-adaptive</td>\n",
       "      <td>0.42</td>\n",
       "      <td>0.48</td>\n",
       "      <td>0.06</td>\n",
       "    </tr>\n",
       "  </tbody>\n",
       "</table>\n",
       "</div>"
      ],
      "text/plain": [
       "      condition  pre-test  post-test  learning rate\n",
       "0      adaptive      0.29       0.41           0.12\n",
       "1  non-adaptive      0.17       0.27           0.10\n",
       "2      adaptive      0.13       0.20           0.07\n",
       "3  non-adaptive      0.42       0.48           0.06"
      ]
     },
     "execution_count": 27,
     "metadata": {},
     "output_type": "execute_result"
    }
   ],
   "source": [
    "df = pd.read_csv(data)\n",
    "df"
   ]
  },
  {
   "cell_type": "markdown",
   "id": "2af33f80",
   "metadata": {},
   "source": [
    "Get mean learning rate grouped by condition (Training or Control)"
   ]
  },
  {
   "cell_type": "code",
   "execution_count": 26,
   "id": "a31831ad",
   "metadata": {},
   "outputs": [
    {
     "data": {
      "text/plain": [
       "condition\n",
       "adaptive        0.095\n",
       "non-adaptive    0.080\n",
       "Name: learning rate, dtype: float64"
      ]
     },
     "execution_count": 26,
     "metadata": {},
     "output_type": "execute_result"
    }
   ],
   "source": [
    "means = df.groupby(['condition'])['learning rate'].mean()\n",
    "means"
   ]
  },
  {
   "cell_type": "markdown",
   "id": "a1c2bfcf",
   "metadata": {},
   "source": [
    "Create bar plot of mean learning rates by condition"
   ]
  },
  {
   "cell_type": "code",
   "execution_count": 25,
   "id": "18d807ec",
   "metadata": {},
   "outputs": [
    {
     "data": {
      "image/png": "[encoded data removed]",
      "text/plain": [
       "<Figure size 432x288 with 1 Axes>"
      ]
     },
     "metadata": {
      "needs_background": "light"
     },
     "output_type": "display_data"
    }
   ],
   "source": [
    "fig = means.plot(kind='bar', ylim=(0, .1),\n",
    "           xlabel=\"Working Memory Task\", ylabel=\"Synthetic Speech Learning Rate\",\n",
    "           title=\"Mean synthetic speech learning rates\")\n"
   ]
  },
  {
   "cell_type": "markdown",
   "id": "72fdadd8",
   "metadata": {},
   "source": [
    "### Results"
   ]
  },
  {
   "cell_type": "markdown",
   "id": "83894965",
   "metadata": {},
   "source": [
    "The results of our data confirm the hypothesis. Participants who underwent adaptive working memory training had greater mean learning outcomes than control group participants who completed a non-adaptive working memory task"
   ]
  },
  {
   "cell_type": "code",
   "execution_count": null,
   "id": "5835bb2b",
   "metadata": {},
   "outputs": [],
   "source": []
  }
 ],
 "metadata": {
  "kernelspec": {
   "display_name": "Python 3",
   "language": "python",
   "name": "python3"
  },
  "language_info": {
   "codemirror_mode": {
    "name": "ipython",
    "version": 3
   },
   "file_extension": ".py",
   "mimetype": "text/x-python",
   "name": "python",
   "nbconvert_exporter": "python",
   "pygments_lexer": "ipython3",
   "version": "3.8.8"
  }
 },
 "nbformat": 4,
 "nbformat_minor": 5
}
